{
 "cells": [
  {
   "cell_type": "code",
   "execution_count": 10,
   "id": "5638796d-d8d6-487a-93c5-70ef01bd7623",
   "metadata": {},
   "outputs": [],
   "source": [
    "# Importando as bibliotecas\n",
    "\n",
    "import pandas as pd\n",
    "import numpy as np\n",
    "import os\n",
    "import matplotlib.pylab as plt\n",
    "from sklearn.model_selection import train_test_split\n",
    "from sklearn.tree import DecisionTreeClassifier\n",
    "from sklearn.metrics import classification_report\n",
    "import sklearn.metrics"
   ]
  },
  {
   "cell_type": "code",
   "execution_count": 11,
   "id": "a60faef6-92a3-4473-917b-0e7b6e6583e0",
   "metadata": {},
   "outputs": [
    {
     "data": {
      "text/plain": [
       "SESSION_ID          int64\n",
       "Click_Image         int64\n",
       "Read_Reviews        int64\n",
       "Category_View       int64\n",
       "Read_Details        int64\n",
       "Video_View          int64\n",
       "Add_to_List         int64\n",
       "Compare_Products    int64\n",
       "View_Similar        int64\n",
       "Save_for_Later      int64\n",
       "Personalized        int64\n",
       "BUY                 int64\n",
       "dtype: object"
      ]
     },
     "execution_count": 11,
     "metadata": {},
     "output_type": "execute_result"
    }
   ],
   "source": [
    "# Lendo base de dados\n",
    "\n",
    "prospect_data = pd.read_csv(\"target_app.csv\")\n",
    "prospect_data.dtypes"
   ]
  },
  {
   "cell_type": "code",
   "execution_count": 12,
   "id": "649afd9b-174f-4198-9fbf-e0b38a9dba92",
   "metadata": {},
   "outputs": [
    {
     "data": {
      "text/html": [
       "<div>\n",
       "<style scoped>\n",
       "    .dataframe tbody tr th:only-of-type {\n",
       "        vertical-align: middle;\n",
       "    }\n",
       "\n",
       "    .dataframe tbody tr th {\n",
       "        vertical-align: top;\n",
       "    }\n",
       "\n",
       "    .dataframe thead th {\n",
       "        text-align: right;\n",
       "    }\n",
       "</style>\n",
       "<table border=\"1\" class=\"dataframe\">\n",
       "  <thead>\n",
       "    <tr style=\"text-align: right;\">\n",
       "      <th></th>\n",
       "      <th>SESSION_ID</th>\n",
       "      <th>Click_Image</th>\n",
       "      <th>Read_Reviews</th>\n",
       "      <th>Category_View</th>\n",
       "      <th>Read_Details</th>\n",
       "      <th>Video_View</th>\n",
       "      <th>Add_to_List</th>\n",
       "      <th>Compare_Products</th>\n",
       "      <th>View_Similar</th>\n",
       "      <th>Save_for_Later</th>\n",
       "      <th>Personalized</th>\n",
       "      <th>BUY</th>\n",
       "    </tr>\n",
       "  </thead>\n",
       "  <tbody>\n",
       "    <tr>\n",
       "      <th>0</th>\n",
       "      <td>27873</td>\n",
       "      <td>0</td>\n",
       "      <td>0</td>\n",
       "      <td>1</td>\n",
       "      <td>0</td>\n",
       "      <td>1</td>\n",
       "      <td>0</td>\n",
       "      <td>0</td>\n",
       "      <td>0</td>\n",
       "      <td>1</td>\n",
       "      <td>0</td>\n",
       "      <td>0</td>\n",
       "    </tr>\n",
       "    <tr>\n",
       "      <th>1</th>\n",
       "      <td>27874</td>\n",
       "      <td>0</td>\n",
       "      <td>1</td>\n",
       "      <td>1</td>\n",
       "      <td>0</td>\n",
       "      <td>0</td>\n",
       "      <td>0</td>\n",
       "      <td>0</td>\n",
       "      <td>0</td>\n",
       "      <td>0</td>\n",
       "      <td>1</td>\n",
       "      <td>0</td>\n",
       "    </tr>\n",
       "    <tr>\n",
       "      <th>2</th>\n",
       "      <td>27875</td>\n",
       "      <td>1</td>\n",
       "      <td>0</td>\n",
       "      <td>1</td>\n",
       "      <td>1</td>\n",
       "      <td>1</td>\n",
       "      <td>0</td>\n",
       "      <td>0</td>\n",
       "      <td>0</td>\n",
       "      <td>1</td>\n",
       "      <td>0</td>\n",
       "      <td>0</td>\n",
       "    </tr>\n",
       "    <tr>\n",
       "      <th>3</th>\n",
       "      <td>27876</td>\n",
       "      <td>1</td>\n",
       "      <td>0</td>\n",
       "      <td>0</td>\n",
       "      <td>0</td>\n",
       "      <td>1</td>\n",
       "      <td>1</td>\n",
       "      <td>1</td>\n",
       "      <td>0</td>\n",
       "      <td>0</td>\n",
       "      <td>0</td>\n",
       "      <td>0</td>\n",
       "    </tr>\n",
       "    <tr>\n",
       "      <th>4</th>\n",
       "      <td>27877</td>\n",
       "      <td>1</td>\n",
       "      <td>1</td>\n",
       "      <td>1</td>\n",
       "      <td>0</td>\n",
       "      <td>1</td>\n",
       "      <td>0</td>\n",
       "      <td>1</td>\n",
       "      <td>0</td>\n",
       "      <td>0</td>\n",
       "      <td>0</td>\n",
       "      <td>0</td>\n",
       "    </tr>\n",
       "  </tbody>\n",
       "</table>\n",
       "</div>"
      ],
      "text/plain": [
       "   SESSION_ID  Click_Image  Read_Reviews  Category_View  Read_Details  \\\n",
       "0       27873            0             0              1             0   \n",
       "1       27874            0             1              1             0   \n",
       "2       27875            1             0              1             1   \n",
       "3       27876            1             0              0             0   \n",
       "4       27877            1             1              1             0   \n",
       "\n",
       "   Video_View  Add_to_List  Compare_Products  View_Similar  Save_for_Later  \\\n",
       "0           1            0                 0             0               1   \n",
       "1           0            0                 0             0               0   \n",
       "2           1            0                 0             0               1   \n",
       "3           1            1                 1             0               0   \n",
       "4           1            0                 1             0               0   \n",
       "\n",
       "   Personalized  BUY  \n",
       "0             0    0  \n",
       "1             1    0  \n",
       "2             0    0  \n",
       "3             0    0  \n",
       "4             0    0  "
      ]
     },
     "execution_count": 12,
     "metadata": {},
     "output_type": "execute_result"
    }
   ],
   "source": [
    "# Inspecionando dados da tabela\n",
    "\n",
    "prospect_data.head()"
   ]
  },
  {
   "cell_type": "code",
   "execution_count": 13,
   "id": "9bc30144-7081-44fc-a8f6-030e7cb4f117",
   "metadata": {},
   "outputs": [
    {
     "data": {
      "text/html": [
       "<div>\n",
       "<style scoped>\n",
       "    .dataframe tbody tr th:only-of-type {\n",
       "        vertical-align: middle;\n",
       "    }\n",
       "\n",
       "    .dataframe tbody tr th {\n",
       "        vertical-align: top;\n",
       "    }\n",
       "\n",
       "    .dataframe thead th {\n",
       "        text-align: right;\n",
       "    }\n",
       "</style>\n",
       "<table border=\"1\" class=\"dataframe\">\n",
       "  <thead>\n",
       "    <tr style=\"text-align: right;\">\n",
       "      <th></th>\n",
       "      <th>SESSION_ID</th>\n",
       "      <th>Click_Image</th>\n",
       "      <th>Read_Reviews</th>\n",
       "      <th>Category_View</th>\n",
       "      <th>Read_Details</th>\n",
       "      <th>Video_View</th>\n",
       "      <th>Add_to_List</th>\n",
       "      <th>Compare_Products</th>\n",
       "      <th>View_Similar</th>\n",
       "      <th>Save_for_Later</th>\n",
       "      <th>Personalized</th>\n",
       "      <th>BUY</th>\n",
       "    </tr>\n",
       "  </thead>\n",
       "  <tbody>\n",
       "    <tr>\n",
       "      <th>count</th>\n",
       "      <td>500.000000</td>\n",
       "      <td>500.000000</td>\n",
       "      <td>500.0000</td>\n",
       "      <td>500.000000</td>\n",
       "      <td>500.0000</td>\n",
       "      <td>500.000000</td>\n",
       "      <td>500.000000</td>\n",
       "      <td>500.000000</td>\n",
       "      <td>500.000000</td>\n",
       "      <td>500.000000</td>\n",
       "      <td>500.000000</td>\n",
       "      <td>500.000000</td>\n",
       "    </tr>\n",
       "    <tr>\n",
       "      <th>mean</th>\n",
       "      <td>28122.500000</td>\n",
       "      <td>0.510000</td>\n",
       "      <td>0.5200</td>\n",
       "      <td>0.440000</td>\n",
       "      <td>0.4800</td>\n",
       "      <td>0.528000</td>\n",
       "      <td>0.500000</td>\n",
       "      <td>0.580000</td>\n",
       "      <td>0.468000</td>\n",
       "      <td>0.532000</td>\n",
       "      <td>0.550000</td>\n",
       "      <td>0.370000</td>\n",
       "    </tr>\n",
       "    <tr>\n",
       "      <th>std</th>\n",
       "      <td>144.481833</td>\n",
       "      <td>0.500401</td>\n",
       "      <td>0.5001</td>\n",
       "      <td>0.496884</td>\n",
       "      <td>0.5001</td>\n",
       "      <td>0.499715</td>\n",
       "      <td>0.500501</td>\n",
       "      <td>0.494053</td>\n",
       "      <td>0.499475</td>\n",
       "      <td>0.499475</td>\n",
       "      <td>0.497992</td>\n",
       "      <td>0.483288</td>\n",
       "    </tr>\n",
       "    <tr>\n",
       "      <th>min</th>\n",
       "      <td>27873.000000</td>\n",
       "      <td>0.000000</td>\n",
       "      <td>0.0000</td>\n",
       "      <td>0.000000</td>\n",
       "      <td>0.0000</td>\n",
       "      <td>0.000000</td>\n",
       "      <td>0.000000</td>\n",
       "      <td>0.000000</td>\n",
       "      <td>0.000000</td>\n",
       "      <td>0.000000</td>\n",
       "      <td>0.000000</td>\n",
       "      <td>0.000000</td>\n",
       "    </tr>\n",
       "    <tr>\n",
       "      <th>25%</th>\n",
       "      <td>27997.750000</td>\n",
       "      <td>0.000000</td>\n",
       "      <td>0.0000</td>\n",
       "      <td>0.000000</td>\n",
       "      <td>0.0000</td>\n",
       "      <td>0.000000</td>\n",
       "      <td>0.000000</td>\n",
       "      <td>0.000000</td>\n",
       "      <td>0.000000</td>\n",
       "      <td>0.000000</td>\n",
       "      <td>0.000000</td>\n",
       "      <td>0.000000</td>\n",
       "    </tr>\n",
       "    <tr>\n",
       "      <th>50%</th>\n",
       "      <td>28122.500000</td>\n",
       "      <td>1.000000</td>\n",
       "      <td>1.0000</td>\n",
       "      <td>0.000000</td>\n",
       "      <td>0.0000</td>\n",
       "      <td>1.000000</td>\n",
       "      <td>0.500000</td>\n",
       "      <td>1.000000</td>\n",
       "      <td>0.000000</td>\n",
       "      <td>1.000000</td>\n",
       "      <td>1.000000</td>\n",
       "      <td>0.000000</td>\n",
       "    </tr>\n",
       "    <tr>\n",
       "      <th>75%</th>\n",
       "      <td>28247.250000</td>\n",
       "      <td>1.000000</td>\n",
       "      <td>1.0000</td>\n",
       "      <td>1.000000</td>\n",
       "      <td>1.0000</td>\n",
       "      <td>1.000000</td>\n",
       "      <td>1.000000</td>\n",
       "      <td>1.000000</td>\n",
       "      <td>1.000000</td>\n",
       "      <td>1.000000</td>\n",
       "      <td>1.000000</td>\n",
       "      <td>1.000000</td>\n",
       "    </tr>\n",
       "    <tr>\n",
       "      <th>max</th>\n",
       "      <td>28372.000000</td>\n",
       "      <td>1.000000</td>\n",
       "      <td>1.0000</td>\n",
       "      <td>1.000000</td>\n",
       "      <td>1.0000</td>\n",
       "      <td>1.000000</td>\n",
       "      <td>1.000000</td>\n",
       "      <td>1.000000</td>\n",
       "      <td>1.000000</td>\n",
       "      <td>1.000000</td>\n",
       "      <td>1.000000</td>\n",
       "      <td>1.000000</td>\n",
       "    </tr>\n",
       "  </tbody>\n",
       "</table>\n",
       "</div>"
      ],
      "text/plain": [
       "         SESSION_ID  Click_Image  Read_Reviews  Category_View  Read_Details  \\\n",
       "count    500.000000   500.000000      500.0000     500.000000      500.0000   \n",
       "mean   28122.500000     0.510000        0.5200       0.440000        0.4800   \n",
       "std      144.481833     0.500401        0.5001       0.496884        0.5001   \n",
       "min    27873.000000     0.000000        0.0000       0.000000        0.0000   \n",
       "25%    27997.750000     0.000000        0.0000       0.000000        0.0000   \n",
       "50%    28122.500000     1.000000        1.0000       0.000000        0.0000   \n",
       "75%    28247.250000     1.000000        1.0000       1.000000        1.0000   \n",
       "max    28372.000000     1.000000        1.0000       1.000000        1.0000   \n",
       "\n",
       "       Video_View  Add_to_List  Compare_Products  View_Similar  \\\n",
       "count  500.000000   500.000000        500.000000    500.000000   \n",
       "mean     0.528000     0.500000          0.580000      0.468000   \n",
       "std      0.499715     0.500501          0.494053      0.499475   \n",
       "min      0.000000     0.000000          0.000000      0.000000   \n",
       "25%      0.000000     0.000000          0.000000      0.000000   \n",
       "50%      1.000000     0.500000          1.000000      0.000000   \n",
       "75%      1.000000     1.000000          1.000000      1.000000   \n",
       "max      1.000000     1.000000          1.000000      1.000000   \n",
       "\n",
       "       Save_for_Later  Personalized         BUY  \n",
       "count      500.000000    500.000000  500.000000  \n",
       "mean         0.532000      0.550000    0.370000  \n",
       "std          0.499475      0.497992    0.483288  \n",
       "min          0.000000      0.000000    0.000000  \n",
       "25%          0.000000      0.000000    0.000000  \n",
       "50%          1.000000      1.000000    0.000000  \n",
       "75%          1.000000      1.000000    1.000000  \n",
       "max          1.000000      1.000000    1.000000  "
      ]
     },
     "execution_count": 13,
     "metadata": {},
     "output_type": "execute_result"
    }
   ],
   "source": [
    "# Fazendo uma  análise estatística resumida dos dados\n",
    "prospect_data.describe()"
   ]
  },
  {
   "cell_type": "code",
   "execution_count": 14,
   "id": "22d5f1fa-2f61-4bc9-bf53-7776b3345d4c",
   "metadata": {},
   "outputs": [
    {
     "data": {
      "text/plain": [
       "SESSION_ID          0.026677\n",
       "Click_Image         0.046819\n",
       "Read_Reviews        0.404628\n",
       "Category_View      -0.095136\n",
       "Read_Details        0.009950\n",
       "Video_View         -0.022239\n",
       "Add_to_List        -0.103562\n",
       "Compare_Products    0.190522\n",
       "View_Similar       -0.096137\n",
       "Save_for_Later      0.179156\n",
       "Personalized        0.110328\n",
       "BUY                 1.000000\n",
       "Name: BUY, dtype: float64"
      ]
     },
     "execution_count": 14,
     "metadata": {},
     "output_type": "execute_result"
    }
   ],
   "source": [
    "# Análise de correlação\n",
    "\n",
    "prospect_data.corr()['BUY']"
   ]
  },
  {
   "cell_type": "code",
   "execution_count": 17,
   "id": "12f11e34-4178-4510-809d-3a06ced90c3b",
   "metadata": {},
   "outputs": [],
   "source": [
    "# Eliminando colunas com baixa correlação\n",
    "\n",
    "predictors = prospect_data[['Read_Reviews','Compare_Products','Add_to_List','Save_for_Later','Personalized', 'View_Similar']] \n",
    "targets = prospect_data.BUY"
   ]
  },
  {
   "cell_type": "code",
   "execution_count": 23,
   "id": "e2bd5a32-3d85-45a6-99fe-f1a97cdebece",
   "metadata": {},
   "outputs": [
    {
     "name": "stdout",
     "output_type": "stream",
     "text": [
      "Predictor - Training: (350, 6) Predictor - Testing: (150, 6)\n"
     ]
    }
   ],
   "source": [
    "# Script de treinamento e teste\n",
    "# Divisão do modelo em dados de treinamento e teste na proporção de 70:30\n",
    "\n",
    "pred_train, pred_test, tar_train, tar_test = train_test_split(predictors, targets, test_size = .3)\n",
    "print('Predictor - Training:', pred_train.shape, 'Predictor - Testing:', pred_test.shape)"
   ]
  },
  {
   "cell_type": "code",
   "execution_count": 25,
   "id": "7083c78e-d3d1-4dbe-a0ac-8ef578c24093",
   "metadata": {},
   "outputs": [
    {
     "data": {
      "text/plain": [
       "array([[77, 30],\n",
       "       [16, 27]], dtype=int64)"
      ]
     },
     "execution_count": 25,
     "metadata": {},
     "output_type": "execute_result"
    }
   ],
   "source": [
    "# Construindo modelo e verificando a precisão \n",
    "\n",
    "from sklearn.naive_bayes import GaussianNB\n",
    "\n",
    "classifier = GaussianNB()\n",
    "classifier = classifier.fit(pred_train, tar_train)\n",
    "\n",
    "predictions = classifier.predict(pred_test)\n",
    "\n",
    "# Analisar a precisão das previsões\n",
    "\n",
    "sklearn.metrics.confusion_matrix(tar_test, predictions)"
   ]
  },
  {
   "cell_type": "code",
   "execution_count": 26,
   "id": "d18b348b-e929-47d3-932a-4dafbf4c8a73",
   "metadata": {},
   "outputs": [
    {
     "data": {
      "text/plain": [
       "0.6933333333333334"
      ]
     },
     "execution_count": 26,
     "metadata": {},
     "output_type": "execute_result"
    }
   ],
   "source": [
    "# Pontuação de precisão\n",
    "\n",
    "sklearn.metrics.accuracy_score(tar_test, predictions)"
   ]
  },
  {
   "cell_type": "code",
   "execution_count": 28,
   "id": "fd3e1e3d-3906-4a4c-afe2-428358955c71",
   "metadata": {},
   "outputs": [
    {
     "data": {
      "text/plain": [
       "0.45943305035748006"
      ]
     },
     "execution_count": 28,
     "metadata": {},
     "output_type": "execute_result"
    }
   ],
   "source": [
    "# Prever a probabilidade de um usuário comprar \n",
    "\n",
    "pred_prob = classifier.predict_proba(pred_test)\n",
    "pred_prob[0,1]"
   ]
  },
  {
   "cell_type": "code",
   "execution_count": 30,
   "id": "b7ea5e04-733a-4b46-914b-84d7324bd403",
   "metadata": {},
   "outputs": [
    {
     "name": "stdout",
     "output_type": "stream",
     "text": [
      "New User: Propensity:  [0.06051618]\n"
     ]
    },
    {
     "name": "stderr",
     "output_type": "stream",
     "text": [
      "C:\\Users\\maryn\\anaconda3\\lib\\site-packages\\sklearn\\base.py:450: UserWarning: X does not have valid feature names, but GaussianNB was fitted with feature names\n",
      "  warnings.warn(\n"
     ]
    }
   ],
   "source": [
    "# Simulação de previsão em tempo real\n",
    "\n",
    "browsing_data = np.array([0, 0, 0, 0, 0, 0]).reshape(1, -1)\n",
    "print('New User: Propensity: ', classifier.predict_proba(browsing_data)[:,1])"
   ]
  },
  {
   "cell_type": "code",
   "execution_count": 32,
   "id": "b09179e1-b79d-49f4-9faa-aa50ebfed2eb",
   "metadata": {},
   "outputs": [
    {
     "name": "stdout",
     "output_type": "stream",
     "text": [
      "New User: Propensity:  [0.16162675]\n"
     ]
    },
    {
     "name": "stderr",
     "output_type": "stream",
     "text": [
      "C:\\Users\\maryn\\anaconda3\\lib\\site-packages\\sklearn\\base.py:450: UserWarning: X does not have valid feature names, but GaussianNB was fitted with feature names\n",
      "  warnings.warn(\n"
     ]
    }
   ],
   "source": [
    "# Previsão de converter se o usuário comparar um produto \n",
    "\n",
    "browsing_data = np.array([0, 1, 0, 0, 0, 0]).reshape(1, -1)\n",
    "print('New User: Propensity: ', classifier.predict_proba(browsing_data)[:,1])"
   ]
  },
  {
   "cell_type": "code",
   "execution_count": null,
   "id": "ebb1fcec-1b05-47c0-93d7-9a11649d5f6d",
   "metadata": {},
   "outputs": [],
   "source": []
  }
 ],
 "metadata": {
  "kernelspec": {
   "display_name": "Python 3 (ipykernel)",
   "language": "python",
   "name": "python3"
  },
  "language_info": {
   "codemirror_mode": {
    "name": "ipython",
    "version": 3
   },
   "file_extension": ".py",
   "mimetype": "text/x-python",
   "name": "python",
   "nbconvert_exporter": "python",
   "pygments_lexer": "ipython3",
   "version": "3.9.13"
  }
 },
 "nbformat": 4,
 "nbformat_minor": 5
}
